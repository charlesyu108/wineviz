{
 "cells": [
  {
   "cell_type": "code",
   "execution_count": 42,
   "metadata": {},
   "outputs": [],
   "source": [
    "from io import StringIO\n",
    "import json\n",
    "import pandas as pd\n",
    "import matplotlib.pyplot as plt\n",
    "import numpy as np\n",
    "from collections import Counter"
   ]
  },
  {
   "cell_type": "code",
   "execution_count": 2,
   "metadata": {},
   "outputs": [],
   "source": [
    "data = pd.read_csv(\"winemag-data_first150k.csv\")"
   ]
  },
  {
   "cell_type": "code",
   "execution_count": 3,
   "metadata": {},
   "outputs": [
    {
     "data": {
      "text/html": [
       "<div>\n",
       "<style scoped>\n",
       "    .dataframe tbody tr th:only-of-type {\n",
       "        vertical-align: middle;\n",
       "    }\n",
       "\n",
       "    .dataframe tbody tr th {\n",
       "        vertical-align: top;\n",
       "    }\n",
       "\n",
       "    .dataframe thead th {\n",
       "        text-align: right;\n",
       "    }\n",
       "</style>\n",
       "<table border=\"1\" class=\"dataframe\">\n",
       "  <thead>\n",
       "    <tr style=\"text-align: right;\">\n",
       "      <th></th>\n",
       "      <th>count</th>\n",
       "      <th>mean</th>\n",
       "      <th>std</th>\n",
       "      <th>min</th>\n",
       "      <th>25%</th>\n",
       "      <th>50%</th>\n",
       "      <th>75%</th>\n",
       "      <th>max</th>\n",
       "    </tr>\n",
       "  </thead>\n",
       "  <tbody>\n",
       "    <tr>\n",
       "      <th>Unnamed: 0</th>\n",
       "      <td>150930.0</td>\n",
       "      <td>75464.500000</td>\n",
       "      <td>43569.882402</td>\n",
       "      <td>0.0</td>\n",
       "      <td>37732.25</td>\n",
       "      <td>75464.5</td>\n",
       "      <td>113196.75</td>\n",
       "      <td>150929.0</td>\n",
       "    </tr>\n",
       "    <tr>\n",
       "      <th>points</th>\n",
       "      <td>150930.0</td>\n",
       "      <td>87.888418</td>\n",
       "      <td>3.222392</td>\n",
       "      <td>80.0</td>\n",
       "      <td>86.00</td>\n",
       "      <td>88.0</td>\n",
       "      <td>90.00</td>\n",
       "      <td>100.0</td>\n",
       "    </tr>\n",
       "    <tr>\n",
       "      <th>price</th>\n",
       "      <td>137235.0</td>\n",
       "      <td>33.131482</td>\n",
       "      <td>36.322536</td>\n",
       "      <td>4.0</td>\n",
       "      <td>16.00</td>\n",
       "      <td>24.0</td>\n",
       "      <td>40.00</td>\n",
       "      <td>2300.0</td>\n",
       "    </tr>\n",
       "  </tbody>\n",
       "</table>\n",
       "</div>"
      ],
      "text/plain": [
       "               count          mean           std   min       25%      50%  \\\n",
       "Unnamed: 0  150930.0  75464.500000  43569.882402   0.0  37732.25  75464.5   \n",
       "points      150930.0     87.888418      3.222392  80.0     86.00     88.0   \n",
       "price       137235.0     33.131482     36.322536   4.0     16.00     24.0   \n",
       "\n",
       "                  75%       max  \n",
       "Unnamed: 0  113196.75  150929.0  \n",
       "points          90.00     100.0  \n",
       "price           40.00    2300.0  "
      ]
     },
     "execution_count": 3,
     "metadata": {},
     "output_type": "execute_result"
    }
   ],
   "source": [
    "data.describe().T"
   ]
  },
  {
   "cell_type": "code",
   "execution_count": 4,
   "metadata": {},
   "outputs": [
    {
     "data": {
      "text/plain": [
       "150930"
      ]
     },
     "execution_count": 4,
     "metadata": {},
     "output_type": "execute_result"
    }
   ],
   "source": [
    "len(data)"
   ]
  },
  {
   "cell_type": "code",
   "execution_count": 5,
   "metadata": {},
   "outputs": [
    {
     "data": {
      "text/plain": [
       "<matplotlib.axes._subplots.AxesSubplot at 0x110f98e80>"
      ]
     },
     "execution_count": 5,
     "metadata": {},
     "output_type": "execute_result"
    },
    {
     "data": {
      "image/png": "[encoded data removed]",
      "text/plain": [
       "<matplotlib.figure.Figure at 0x110f987b8>"
      ]
     },
     "metadata": {},
     "output_type": "display_data"
    }
   ],
   "source": [
    "%matplotlib inline\n",
    "data.plot(kind = \"scatter\", x = \"points\", y = \"price\", title = \"Price vs Points scored\")"
   ]
  },
  {
   "cell_type": "code",
   "execution_count": 6,
   "metadata": {},
   "outputs": [],
   "source": [
    "variety_counts = data[\"variety\"].value_counts()"
   ]
  },
  {
   "cell_type": "code",
   "execution_count": 7,
   "metadata": {},
   "outputs": [
    {
     "data": {
      "text/plain": [
       "Chardonnay                  14482\n",
       "Pinot Noir                  14291\n",
       "Cabernet Sauvignon          12800\n",
       "Red Blend                   10062\n",
       "Bordeaux-style Red Blend     7347\n",
       "Name: variety, dtype: int64"
      ]
     },
     "execution_count": 7,
     "metadata": {},
     "output_type": "execute_result"
    }
   ],
   "source": [
    "variety_counts.head() # Most common varieties"
   ]
  },
  {
   "cell_type": "code",
   "execution_count": 8,
   "metadata": {},
   "outputs": [
    {
     "data": {
      "text/plain": [
       "Moscofilero     1\n",
       "Huxelrebe       1\n",
       "Listán Negro    1\n",
       "Durello         1\n",
       "Pinela          1\n",
       "Name: variety, dtype: int64"
      ]
     },
     "execution_count": 8,
     "metadata": {},
     "output_type": "execute_result"
    }
   ],
   "source": [
    "variety_counts.tail() # Least common varieties"
   ]
  },
  {
   "cell_type": "code",
   "execution_count": 9,
   "metadata": {},
   "outputs": [
    {
     "data": {
      "text/plain": [
       "632"
      ]
     },
     "execution_count": 9,
     "metadata": {},
     "output_type": "execute_result"
    }
   ],
   "source": [
    "len(variety_counts) #Num cats in original"
   ]
  },
  {
   "cell_type": "code",
   "execution_count": 10,
   "metadata": {},
   "outputs": [],
   "source": [
    "# Filtering out categories where under 20 of its kind\n",
    "variety_counts = variety_counts[variety_counts > 20]"
   ]
  },
  {
   "cell_type": "code",
   "execution_count": 11,
   "metadata": {},
   "outputs": [
    {
     "data": {
      "text/plain": [
       "202"
      ]
     },
     "execution_count": 11,
     "metadata": {},
     "output_type": "execute_result"
    }
   ],
   "source": [
    "len(variety_counts) # Num of categories left"
   ]
  },
  {
   "cell_type": "code",
   "execution_count": 12,
   "metadata": {},
   "outputs": [
    {
     "data": {
      "text/plain": [
       "<matplotlib.axes._subplots.AxesSubplot at 0x110f7e8d0>"
      ]
     },
     "execution_count": 12,
     "metadata": {},
     "output_type": "execute_result"
    },
    {
     "data": {
      "image/png": "[encoded data removed]",
      "text/plain": [
       "<matplotlib.figure.Figure at 0x107c18588>"
      ]
     },
     "metadata": {},
     "output_type": "display_data"
    }
   ],
   "source": [
    "%matplotlib inline\n",
    "variety_counts.plot(kind = \"bar\", title = \"Distribution of categories > 20\")"
   ]
  },
  {
   "cell_type": "code",
   "execution_count": 13,
   "metadata": {},
   "outputs": [],
   "source": [
    "country_counts = data[\"country\"].value_counts()"
   ]
  },
  {
   "cell_type": "code",
   "execution_count": 14,
   "metadata": {},
   "outputs": [
    {
     "data": {
      "text/plain": [
       "US              62397\n",
       "Italy           23478\n",
       "France          21098\n",
       "Spain            8268\n",
       "Chile            5816\n",
       "Argentina        5631\n",
       "Portugal         5322\n",
       "Australia        4957\n",
       "New Zealand      3320\n",
       "Austria          3057\n",
       "Germany          2452\n",
       "South Africa     2258\n",
       "Greece            884\n",
       "Israel            630\n",
       "Hungary           231\n",
       "Name: country, dtype: int64"
      ]
     },
     "execution_count": 14,
     "metadata": {},
     "output_type": "execute_result"
    }
   ],
   "source": [
    "country_counts[:15]"
   ]
  },
  {
   "cell_type": "code",
   "execution_count": 15,
   "metadata": {},
   "outputs": [
    {
     "data": {
      "text/plain": [
       "US        62397\n",
       "Italy     23478\n",
       "France    21098\n",
       "Spain      8268\n",
       "Chile      5816\n",
       "Name: country, dtype: int64"
      ]
     },
     "execution_count": 15,
     "metadata": {},
     "output_type": "execute_result"
    }
   ],
   "source": [
    "country_counts.head()"
   ]
  },
  {
   "cell_type": "code",
   "execution_count": 16,
   "metadata": {},
   "outputs": [
    {
     "data": {
      "text/plain": [
       "Albania       2\n",
       "Montenegro    2\n",
       "Tunisia       2\n",
       "Japan         2\n",
       "US-France     1\n",
       "Name: country, dtype: int64"
      ]
     },
     "execution_count": 16,
     "metadata": {},
     "output_type": "execute_result"
    }
   ],
   "source": [
    "country_counts.tail()"
   ]
  },
  {
   "cell_type": "code",
   "execution_count": 17,
   "metadata": {},
   "outputs": [
    {
     "data": {
      "text/plain": [
       "48"
      ]
     },
     "execution_count": 17,
     "metadata": {},
     "output_type": "execute_result"
    }
   ],
   "source": [
    "len(country_counts)"
   ]
  },
  {
   "cell_type": "code",
   "execution_count": 18,
   "metadata": {},
   "outputs": [],
   "source": [
    "wineCountbyCountry = pd.DataFrame(country_counts)"
   ]
  },
  {
   "cell_type": "code",
   "execution_count": 19,
   "metadata": {},
   "outputs": [
    {
     "data": {
      "text/html": [
       "<div>\n",
       "<style scoped>\n",
       "    .dataframe tbody tr th:only-of-type {\n",
       "        vertical-align: middle;\n",
       "    }\n",
       "\n",
       "    .dataframe tbody tr th {\n",
       "        vertical-align: top;\n",
       "    }\n",
       "\n",
       "    .dataframe thead th {\n",
       "        text-align: right;\n",
       "    }\n",
       "</style>\n",
       "<table border=\"1\" class=\"dataframe\">\n",
       "  <thead>\n",
       "    <tr style=\"text-align: right;\">\n",
       "      <th></th>\n",
       "      <th>count</th>\n",
       "      <th>mean</th>\n",
       "      <th>std</th>\n",
       "      <th>min</th>\n",
       "      <th>25%</th>\n",
       "      <th>50%</th>\n",
       "      <th>75%</th>\n",
       "      <th>max</th>\n",
       "    </tr>\n",
       "  </thead>\n",
       "  <tbody>\n",
       "    <tr>\n",
       "      <th>country</th>\n",
       "      <td>48.0</td>\n",
       "      <td>3144.270833</td>\n",
       "      <td>9930.379643</td>\n",
       "      <td>1.0</td>\n",
       "      <td>5.75</td>\n",
       "      <td>47.5</td>\n",
       "      <td>1227.5</td>\n",
       "      <td>62397.0</td>\n",
       "    </tr>\n",
       "  </tbody>\n",
       "</table>\n",
       "</div>"
      ],
      "text/plain": [
       "         count         mean          std  min   25%   50%     75%      max\n",
       "country   48.0  3144.270833  9930.379643  1.0  5.75  47.5  1227.5  62397.0"
      ]
     },
     "execution_count": 19,
     "metadata": {},
     "output_type": "execute_result"
    }
   ],
   "source": [
    "wineCountbyCountry.describe().T"
   ]
  },
  {
   "cell_type": "markdown",
   "metadata": {},
   "source": [
    "# Extracting Features from descriptions\n"
   ]
  },
  {
   "cell_type": "code",
   "execution_count": 20,
   "metadata": {},
   "outputs": [],
   "source": [
    "filteredData = data[data[\"variety\"].isin(variety_counts.keys())]"
   ]
  },
  {
   "cell_type": "code",
   "execution_count": 21,
   "metadata": {},
   "outputs": [
    {
     "data": {
      "text/html": [
       "<div>\n",
       "<style scoped>\n",
       "    .dataframe tbody tr th:only-of-type {\n",
       "        vertical-align: middle;\n",
       "    }\n",
       "\n",
       "    .dataframe tbody tr th {\n",
       "        vertical-align: top;\n",
       "    }\n",
       "\n",
       "    .dataframe thead th {\n",
       "        text-align: right;\n",
       "    }\n",
       "</style>\n",
       "<table border=\"1\" class=\"dataframe\">\n",
       "  <thead>\n",
       "    <tr style=\"text-align: right;\">\n",
       "      <th></th>\n",
       "      <th>count</th>\n",
       "      <th>mean</th>\n",
       "      <th>std</th>\n",
       "      <th>min</th>\n",
       "      <th>25%</th>\n",
       "      <th>50%</th>\n",
       "      <th>75%</th>\n",
       "      <th>max</th>\n",
       "    </tr>\n",
       "  </thead>\n",
       "  <tbody>\n",
       "    <tr>\n",
       "      <th>Unnamed: 0</th>\n",
       "      <td>148479.0</td>\n",
       "      <td>75634.773315</td>\n",
       "      <td>43567.108036</td>\n",
       "      <td>0.0</td>\n",
       "      <td>37948.5</td>\n",
       "      <td>75652.0</td>\n",
       "      <td>113416.5</td>\n",
       "      <td>150929.0</td>\n",
       "    </tr>\n",
       "    <tr>\n",
       "      <th>points</th>\n",
       "      <td>148479.0</td>\n",
       "      <td>87.899003</td>\n",
       "      <td>3.226238</td>\n",
       "      <td>80.0</td>\n",
       "      <td>86.0</td>\n",
       "      <td>88.0</td>\n",
       "      <td>90.0</td>\n",
       "      <td>100.0</td>\n",
       "    </tr>\n",
       "    <tr>\n",
       "      <th>price</th>\n",
       "      <td>135048.0</td>\n",
       "      <td>33.272007</td>\n",
       "      <td>36.499630</td>\n",
       "      <td>4.0</td>\n",
       "      <td>16.0</td>\n",
       "      <td>24.0</td>\n",
       "      <td>40.0</td>\n",
       "      <td>2300.0</td>\n",
       "    </tr>\n",
       "  </tbody>\n",
       "</table>\n",
       "</div>"
      ],
      "text/plain": [
       "               count          mean           std   min      25%      50%  \\\n",
       "Unnamed: 0  148479.0  75634.773315  43567.108036   0.0  37948.5  75652.0   \n",
       "points      148479.0     87.899003      3.226238  80.0     86.0     88.0   \n",
       "price       135048.0     33.272007     36.499630   4.0     16.0     24.0   \n",
       "\n",
       "                 75%       max  \n",
       "Unnamed: 0  113416.5  150929.0  \n",
       "points          90.0     100.0  \n",
       "price           40.0    2300.0  "
      ]
     },
     "execution_count": 21,
     "metadata": {},
     "output_type": "execute_result"
    }
   ],
   "source": [
    "filteredData.describe().T"
   ]
  },
  {
   "cell_type": "code",
   "execution_count": 22,
   "metadata": {},
   "outputs": [
    {
     "data": {
      "text/plain": [
       "Unnamed: 0                                                     1\n",
       "country                                                    Spain\n",
       "description    Ripe aromas of fig, blackberry and cassis are ...\n",
       "designation                 Carodorum Selección Especial Reserva\n",
       "points                                                        96\n",
       "price                                                        110\n",
       "province                                          Northern Spain\n",
       "region_1                                                    Toro\n",
       "region_2                                                     NaN\n",
       "variety                                            Tinta de Toro\n",
       "winery                                   Bodega Carmen Rodríguez\n",
       "Name: 1, dtype: object"
      ]
     },
     "execution_count": 22,
     "metadata": {},
     "output_type": "execute_result"
    }
   ],
   "source": [
    "# An example of one wine\n",
    "filteredData.iloc[1]"
   ]
  },
  {
   "cell_type": "code",
   "execution_count": 23,
   "metadata": {},
   "outputs": [],
   "source": [
    "from sklearn.feature_extraction.text import TfidfVectorizer"
   ]
  },
  {
   "cell_type": "code",
   "execution_count": 24,
   "metadata": {},
   "outputs": [],
   "source": [
    "vectorizer = TfidfVectorizer(norm = 'l2', max_df = 0.80, min_df = 1000, stop_words = \"english\", max_features = 100)"
   ]
  },
  {
   "cell_type": "code",
   "execution_count": 25,
   "metadata": {},
   "outputs": [],
   "source": [
    "Mat = vectorizer.fit_transform(filteredData[\"description\"])"
   ]
  },
  {
   "cell_type": "code",
   "execution_count": 26,
   "metadata": {},
   "outputs": [],
   "source": [
    "features = vectorizer.get_feature_names()\n",
    "idx_to_features = {idx : f for idx,f in enumerate(features)}"
   ]
  },
  {
   "cell_type": "code",
   "execution_count": 27,
   "metadata": {},
   "outputs": [
    {
     "name": "stdout",
     "output_type": "stream",
     "text": [
      "['acidity', 'age', 'apple', 'aromas', 'balance', 'balanced', 'berry', 'big', 'bit', 'black', 'blackberry', 'blend', 'bodied', 'bright', 'cabernet', 'cassis', 'character', 'chardonnay', 'cherries', 'cherry', 'chocolate', 'citrus', 'clean', 'cola', 'complex', 'creamy', 'crisp', 'currant', 'dark', 'delicious', 'dried', 'drink', 'dry', 'easy', 'elegant', 'fine', 'finish', 'firm', 'flavor', 'flavors', 'fresh', 'fruit', 'fruits', 'fruity', 'good', 'great', 'green', 'herbal', 'juicy', 'just', 'lemon', 'light', 'like', 'little', 'long', 'medium', 'merlot', 'mineral', 'mouth', 'mouthfeel', 'nice', 'nose', 'notes', 'oak', 'offers', 'palate', 'peach', 'pear', 'pepper', 'pinot', 'plum', 'raspberry', 'red', 'rich', 'ripe', 'sauvignon', 'shows', 'slightly', 'smoky', 'smooth', 'soft', 'spice', 'spicy', 'structure', 'style', 'sweet', 'syrah', 'tannic', 'tannins', 'tart', 'texture', 'toast', 'tobacco', 'touch', 'vanilla', 'vineyard', 'white', 'wine', 'wood', 'years']\n"
     ]
    }
   ],
   "source": [
    "print(features) # Overall features"
   ]
  },
  {
   "cell_type": "markdown",
   "metadata": {},
   "source": [
    "# Extracting the most pertinent descriptor words for a variety"
   ]
  },
  {
   "cell_type": "code",
   "execution_count": 28,
   "metadata": {},
   "outputs": [],
   "source": [
    "top10wines = data[data[\"variety\"].isin(variety_counts.keys()[:10])]"
   ]
  },
  {
   "cell_type": "code",
   "execution_count": 29,
   "metadata": {},
   "outputs": [
    {
     "data": {
      "text/plain": [
       "Chardonnay                  14482\n",
       "Pinot Noir                  14291\n",
       "Cabernet Sauvignon          12800\n",
       "Red Blend                   10062\n",
       "Bordeaux-style Red Blend     7347\n",
       "Sauvignon Blanc              6320\n",
       "Syrah                        5825\n",
       "Riesling                     5524\n",
       "Merlot                       5070\n",
       "Zinfandel                    3799\n",
       "Name: variety, dtype: int64"
      ]
     },
     "execution_count": 29,
     "metadata": {},
     "output_type": "execute_result"
    }
   ],
   "source": [
    "top10wines[\"variety\"].value_counts()"
   ]
  },
  {
   "cell_type": "code",
   "execution_count": 30,
   "metadata": {},
   "outputs": [],
   "source": [
    "def top10descriptors(data):\n",
    "    vectorizer = TfidfVectorizer(norm = 'l2', max_df = 0.7, min_df = 10, stop_words = \"english\", max_features = 10)\n",
    "    _ = vectorizer.fit(data)\n",
    "    return vectorizer.get_feature_names()"
   ]
  },
  {
   "cell_type": "code",
   "execution_count": 31,
   "metadata": {},
   "outputs": [],
   "source": [
    "def all_cats_top10descriptors(data, varieties):\n",
    "    top10s = {}\n",
    "    for var in varieties:\n",
    "        top10s[var] = top10descriptors(data[data[\"variety\"] == var][\"description\"])\n",
    "    return top10s"
   ]
  },
  {
   "cell_type": "code",
   "execution_count": 32,
   "metadata": {},
   "outputs": [],
   "source": [
    "top10wines_only = all_cats_top10descriptors(top10wines, variety_counts.keys()[:10])"
   ]
  },
  {
   "cell_type": "code",
   "execution_count": 33,
   "metadata": {},
   "outputs": [],
   "source": [
    "def print_top10s(descriptors):\n",
    "    print(\"For each of these varieties, these are the top 10 words used to talk about varieties.\")\n",
    "    print()\n",
    "    for var, descriptors in descriptors.items():\n",
    "        print(\"#\"* 25)\n",
    "        print(var)\n",
    "        print(\"#\"* 25)\n",
    "        for d in descriptors:\n",
    "            print(d)\n",
    "        print()"
   ]
  },
  {
   "cell_type": "code",
   "execution_count": 34,
   "metadata": {},
   "outputs": [],
   "source": [
    "%timeit\n",
    "top100wines = data[data[\"variety\"].isin(variety_counts.keys()[:100])]\n",
    "top100wine_10descriptors = all_cats_top10descriptors(top100wines, variety_counts.keys()[:100])"
   ]
  },
  {
   "cell_type": "code",
   "execution_count": 35,
   "metadata": {},
   "outputs": [
    {
     "data": {
      "text/plain": [
       "['aromas',\n",
       " 'citrus',\n",
       " 'fiano',\n",
       " 'fruit',\n",
       " 'mineral',\n",
       " 'palate',\n",
       " 'peach',\n",
       " 'pear',\n",
       " 'white',\n",
       " 'wine']"
      ]
     },
     "execution_count": 35,
     "metadata": {},
     "output_type": "execute_result"
    }
   ],
   "source": [
    "top100wine_10descriptors[\"Fiano\"]"
   ]
  },
  {
   "cell_type": "code",
   "execution_count": 36,
   "metadata": {},
   "outputs": [],
   "source": [
    "def top_n_descriptors(data, n = 200):\n",
    "    vectorizer = TfidfVectorizer(norm = 'l2', min_df = 5, stop_words = \"english\", max_features = n)\n",
    "    _ = vectorizer.fit(data)\n",
    "    return vectorizer.get_feature_names()\n",
    "\n",
    "def all_cats_top_n_descriptors(data, varieties, n = 200):\n",
    "    tops = {}\n",
    "    for var in varieties:\n",
    "        tops[var] = top_n_descriptors(data[data[\"variety\"] == var][\"description\"], n = n)\n",
    "    return tops\n",
    "\n",
    "top100wine_200descriptors = all_cats_top_n_descriptors(top100wines, variety_counts.keys()[:100])"
   ]
  },
  {
   "cell_type": "code",
   "execution_count": 37,
   "metadata": {},
   "outputs": [
    {
     "name": "stdout",
     "output_type": "stream",
     "text": [
      "['acacia', 'accented', 'acidity', 'aged', 'almond', 'alongside', 'apple', 'apricot', 'aromas', 'aromatic', 'avellino', 'backed', 'balanced', 'banana', 'beautiful', 'blossom', 'boasts', 'bodied', 'bright', 'butterscotch', 'campania', 'candied', 'carries', 'citrus', 'clean', 'close', 'closes', 'color', 'cometa', 'companion', 'complexity', 'consistency', 'continue', 'creamy', 'crisp', 'crushed', 'deep', 'delicious', 'delivers', 'density', 'depth', 'di', 'dishes', 'dried', 'drink', 'drop', 'drying', 'easy', 'elegant', 'exotic', 'expression', 'fiano', 'finish', 'fish', 'flavors', 'flint', 'flinty', 'floral', 'flower', 'follow', 'fresh', 'freshness', 'fruit', 'glass', 'golden', 'grape', 'grapefruit', 'grapes', 'hazelnut', 'herb', 'herbs', 'hint', 'honey', 'honeysuckle', 'imparts', 'include', 'intense', 'intensity', 'italy', 'juicy', 'lead', 'lemon', 'length', 'light', 'lightly', 'like', 'lime', 'linear', 'loads', 'makes', 'marks', 'match', 'mature', 'meat', 'mediterranean', 'medium', 'melon', 'mineral', 'mouth', 'mouthfeel', 'nectarine', 'nose', 'note', 'notes', 'nut', 'oak', 'offers', 'opens', 'opulent', 'orange', 'orchard', 'pair', 'palate', 'peach', 'pear', 'perfect', 'personality', 'pineapple', 'pink', 'pressed', 'pretty', 'purity', 'redolent', 'rich', 'richness', 'ripe', 'rosemary', 'round', 'rounded', 'sage', 'savory', 'scents', 'sensations', 'shellfish', 'shows', 'sicilian', 'slightly', 'smoke', 'smoky', 'smooth', 'smoothness', 'soft', 'soon', 'stage', 'stone', 'structured', 'style', 'subtle', 'succulent', 'sweet', 'tangy', 'taste', 'terms', 'toasted', 'tones', 'touch', 'underscores', 'vanilla', 'white', 'wine', 'yellow', 'zest', 'zesty']\n"
     ]
    }
   ],
   "source": [
    "print(top100wine_200descriptors[\"Fiano\"])"
   ]
  },
  {
   "cell_type": "code",
   "execution_count": 38,
   "metadata": {},
   "outputs": [],
   "source": [
    "# Category Look Ups\n",
    "wine_cats = variety_counts.keys()[:100]\n",
    "cat_to_idx = {w:idx for idx, w in enumerate(wine_cats)}\n",
    "\n",
    "# Jaccard Sim Matrix\n",
    "def buildSimMat(descriptors):\n",
    "    sim_mat = np.zeros((len(wine_cats), len(wine_cats)))\n",
    "    for i in range(len(wine_cats)):\n",
    "        for j in range(len(wine_cats)):\n",
    "            if i == j: sim_mat[i][j] = 0\n",
    "            elif j < i: continue\n",
    "            else:\n",
    "                setI = set(descriptors[wine_cats[i]])\n",
    "                setJ = set(descriptors[wine_cats[j]])\n",
    "                sim_mat[i][j] = len(setI.intersection(setJ))/ len(setI.union(setJ))\n",
    "                sim_mat[j][i] = sim_mat[i][j]\n",
    "    return sim_mat"
   ]
  },
  {
   "cell_type": "code",
   "execution_count": 39,
   "metadata": {},
   "outputs": [],
   "source": [
    "sim_mat = buildSimMat(top100wine_200descriptors)"
   ]
  },
  {
   "cell_type": "code",
   "execution_count": 40,
   "metadata": {},
   "outputs": [],
   "source": [
    "def mostSimCategories(name, matx, threshold = 0.5):\n",
    "    idx =  cat_to_idx[name]\n",
    "    sims = matx[idx]\n",
    "    top_cats = np.argsort(sims)[::-1][:100]\n",
    "    return [(wine_cats[i], sims[i]) for i in top_cats if sims[i] >= threshold]\n",
    "def mostSimCategories10(name, matx):\n",
    "    idx =  cat_to_idx[name]\n",
    "    sims = matx[idx]\n",
    "    top_cats = np.argsort(sims)[::-1][:100]\n",
    "    return [(wine_cats[i], sims[i]) for i in top_cats][:10]"
   ]
  },
  {
   "cell_type": "code",
   "execution_count": 43,
   "metadata": {},
   "outputs": [
    {
     "name": "stdout",
     "output_type": "stream",
     "text": [
      "{'Marsanne': 0, 'Touriga Nacional': 4, 'Grüner Veltliner': 4, 'Chardonnay': 12, 'Greco': 2, 'Syrah': 15, 'Nebbiolo': 3, 'Pinot Grigio': 10, 'Mencía': 4, 'Sangiovese': 9, 'Monastrell': 3, 'Grillo': 3, 'Shiraz': 7, 'Cabernet Sauvignon-Shiraz': 0, 'Vermentino': 6, 'Pinot Bianco': 1, 'Pinot Noir': 6, 'Shiraz-Viognier': 1, 'Primitivo': 4, 'Cabernet Blend': 7, 'Prosecco': 2, 'Chenin Blanc': 11, 'Pinot Gris': 11, 'Dolcetto': 4, 'Blaufränkisch': 4, 'Malbec-Merlot': 0, 'Verdejo': 3, 'Friulano': 1, 'Viura': 2, 'Gamay': 6, 'Cabernet Sauvignon': 12, 'Red Blend': 9, 'Albariño': 5, 'Bordeaux-style Red Blend': 7, 'St. Laurent': 0, 'Semillon-Sauvignon Blanc': 2, 'Godello': 1, 'Melon': 0, 'Merlot': 22, 'Pinot Blanc': 11, 'Sauvignon Blanc': 10, 'Petite Sirah': 4, 'Tinta de Toro': 3, 'Zweigelt': 5, 'Rhône-style Red Blend': 9, 'Prugnolo Gentile': 0, 'Negroamaro': 1, 'Grenache': 7, 'Cabernet Franc': 15, 'Roussanne': 6, 'Agiorgitiko': 0, 'Champagne Blend': 3, 'Montepulciano': 5, 'Meritage': 8, 'Rhône-style White Blend': 10, 'Cabernet Sauvignon-Syrah': 6, 'Moscato': 2, 'Pinotage': 1, 'Viognier': 13, 'Sherry': 0, 'Garganega': 5, 'Portuguese Red': 6, 'Bordeaux-style White Blend': 3, 'Barbera': 8, 'Sparkling Blend': 4, 'Petit Verdot': 0, 'Rosé': 0, 'Sémillon': 5, 'Mourvèdre': 5, 'Sauvignon': 1, 'Tempranillo Blend': 8, 'Riesling': 9, 'Malbec': 14, 'Fiano': 4, 'Portuguese White': 4, 'Fumé Blanc': 0, 'Tempranillo-Cabernet Sauvignon': 1, 'Tannat': 0, 'Glera': 1, 'Pinot Nero': 0, 'Falanghina': 3, 'Bonarda': 5, 'Muscat': 2, 'Tempranillo': 11, 'Aglianico': 3, 'Garnacha': 6, 'Merlot-Cabernet Sauvignon': 2, 'Carmenère': 11, 'Sangiovese Grosso': 6, 'White Blend': 13, 'Gewürztraminer': 5, \"Nero d'Avola\": 6, 'G-S-M': 1, 'Torrontés': 2, 'Sagrantino': 0, 'Zinfandel': 5, 'Port': 4, 'Shiraz-Cabernet Sauvignon': 3, 'Corvina, Rondinella, Molinara': 5, 'Cabernet Sauvignon-Merlot': 17}\n",
      "Counter({0: 14, 4: 11, 1: 10, 3: 10, 5: 10, 6: 9, 2: 8, 11: 5, 7: 4, 9: 4, 8: 3, 10: 3, 12: 2, 13: 2, 15: 2, 14: 1, 17: 1, 22: 1})\n",
      "\n",
      "{'Marsanne': 0, 'Touriga Nacional': 1, 'Grüner Veltliner': 3, 'Chardonnay': 7, 'Greco': 2, 'Syrah': 10, 'Nebbiolo': 0, 'Pinot Grigio': 2, 'Mencía': 4, 'Sangiovese': 3, 'Monastrell': 0, 'Grillo': 1, 'Shiraz': 3, 'Cabernet Sauvignon-Shiraz': 0, 'Vermentino': 0, 'Pinot Bianco': 0, 'Pinot Noir': 5, 'Shiraz-Viognier': 0, 'Primitivo': 0, 'Cabernet Blend': 6, 'Prosecco': 1, 'Chenin Blanc': 4, 'Pinot Gris': 7, 'Dolcetto': 2, 'Blaufränkisch': 0, 'Malbec-Merlot': 0, 'Verdejo': 3, 'Friulano': 0, 'Viura': 1, 'Gamay': 3, 'Cabernet Sauvignon': 8, 'Red Blend': 6, 'Albariño': 2, 'Bordeaux-style Red Blend': 1, 'St. Laurent': 0, 'Semillon-Sauvignon Blanc': 0, 'Godello': 0, 'Melon': 0, 'Merlot': 12, 'Pinot Blanc': 7, 'Sauvignon Blanc': 5, 'Petite Sirah': 4, 'Tinta de Toro': 0, 'Zweigelt': 2, 'Rhône-style Red Blend': 1, 'Prugnolo Gentile': 0, 'Negroamaro': 0, 'Grenache': 1, 'Cabernet Franc': 8, 'Roussanne': 3, 'Agiorgitiko': 0, 'Champagne Blend': 0, 'Montepulciano': 2, 'Meritage': 6, 'Rhône-style White Blend': 5, 'Cabernet Sauvignon-Syrah': 0, 'Moscato': 0, 'Pinotage': 0, 'Viognier': 10, 'Sherry': 0, 'Garganega': 0, 'Portuguese Red': 5, 'Bordeaux-style White Blend': 2, 'Barbera': 5, 'Sparkling Blend': 0, 'Petit Verdot': 0, 'Rosé': 0, 'Sémillon': 0, 'Mourvèdre': 0, 'Sauvignon': 0, 'Tempranillo Blend': 6, 'Riesling': 4, 'Malbec': 9, 'Fiano': 1, 'Portuguese White': 2, 'Fumé Blanc': 0, 'Tempranillo-Cabernet Sauvignon': 0, 'Tannat': 0, 'Glera': 1, 'Pinot Nero': 0, 'Falanghina': 2, 'Bonarda': 1, 'Muscat': 0, 'Tempranillo': 7, 'Aglianico': 0, 'Garnacha': 3, 'Merlot-Cabernet Sauvignon': 0, 'Carmenère': 4, 'Sangiovese Grosso': 2, 'White Blend': 6, 'Gewürztraminer': 3, \"Nero d'Avola\": 1, 'G-S-M': 0, 'Torrontés': 2, 'Sagrantino': 0, 'Zinfandel': 2, 'Port': 2, 'Shiraz-Cabernet Sauvignon': 0, 'Corvina, Rondinella, Molinara': 4, 'Cabernet Sauvignon-Merlot': 9}\n",
      "Counter({0: 41, 2: 13, 1: 11, 3: 8, 4: 6, 5: 5, 6: 5, 7: 4, 8: 2, 9: 2, 10: 2, 12: 1})\n",
      "\n",
      "{'Marsanne': 0, 'Touriga Nacional': 1, 'Grüner Veltliner': 3, 'Chardonnay': 9, 'Greco': 1, 'Syrah': 21, 'Nebbiolo': 6, 'Pinot Grigio': 3, 'Mencía': 5, 'Sangiovese': 12, 'Monastrell': 5, 'Grillo': 0, 'Shiraz': 13, 'Cabernet Sauvignon-Shiraz': 0, 'Vermentino': 0, 'Pinot Bianco': 0, 'Pinot Noir': 17, 'Shiraz-Viognier': 0, 'Primitivo': 2, 'Cabernet Blend': 9, 'Prosecco': 1, 'Chenin Blanc': 7, 'Pinot Gris': 9, 'Dolcetto': 2, 'Blaufränkisch': 3, 'Malbec-Merlot': 0, 'Verdejo': 1, 'Friulano': 0, 'Viura': 0, 'Gamay': 3, 'Cabernet Sauvignon': 20, 'Red Blend': 19, 'Albariño': 2, 'Bordeaux-style Red Blend': 11, 'St. Laurent': 0, 'Semillon-Sauvignon Blanc': 0, 'Godello': 0, 'Melon': 0, 'Merlot': 23, 'Pinot Blanc': 7, 'Sauvignon Blanc': 8, 'Petite Sirah': 6, 'Tinta de Toro': 4, 'Zweigelt': 1, 'Rhône-style Red Blend': 11, 'Prugnolo Gentile': 0, 'Negroamaro': 0, 'Grenache': 11, 'Cabernet Franc': 19, 'Roussanne': 2, 'Agiorgitiko': 0, 'Champagne Blend': 5, 'Montepulciano': 5, 'Meritage': 11, 'Rhône-style White Blend': 4, 'Cabernet Sauvignon-Syrah': 3, 'Moscato': 1, 'Pinotage': 0, 'Viognier': 9, 'Sherry': 0, 'Garganega': 1, 'Portuguese Red': 5, 'Bordeaux-style White Blend': 4, 'Barbera': 9, 'Sparkling Blend': 5, 'Petit Verdot': 4, 'Rosé': 2, 'Sémillon': 0, 'Mourvèdre': 6, 'Sauvignon': 2, 'Tempranillo Blend': 13, 'Riesling': 6, 'Malbec': 17, 'Fiano': 0, 'Portuguese White': 3, 'Fumé Blanc': 0, 'Tempranillo-Cabernet Sauvignon': 0, 'Tannat': 0, 'Glera': 1, 'Pinot Nero': 0, 'Falanghina': 1, 'Bonarda': 4, 'Muscat': 0, 'Tempranillo': 14, 'Aglianico': 2, 'Garnacha': 6, 'Merlot-Cabernet Sauvignon': 0, 'Carmenère': 9, 'Sangiovese Grosso': 6, 'White Blend': 6, 'Gewürztraminer': 5, \"Nero d'Avola\": 5, 'G-S-M': 8, 'Torrontés': 1, 'Sagrantino': 0, 'Zinfandel': 8, 'Port': 3, 'Shiraz-Cabernet Sauvignon': 0, 'Corvina, Rondinella, Molinara': 6, 'Cabernet Sauvignon-Merlot': 11}\n",
      "Counter({0: 28, 1: 10, 5: 8, 6: 8, 2: 7, 3: 7, 9: 6, 4: 5, 11: 5, 8: 3, 7: 2, 13: 2, 17: 2, 19: 2, 12: 1, 14: 1, 20: 1, 21: 1, 23: 1})\n",
      "\n",
      "{'Marsanne': 0, 'Touriga Nacional': 1, 'Grüner Veltliner': 1, 'Chardonnay': 4, 'Greco': 1, 'Syrah': 14, 'Nebbiolo': 2, 'Pinot Grigio': 1, 'Mencía': 3, 'Sangiovese': 4, 'Monastrell': 0, 'Grillo': 0, 'Shiraz': 5, 'Cabernet Sauvignon-Shiraz': 0, 'Vermentino': 0, 'Pinot Bianco': 0, 'Pinot Noir': 8, 'Shiraz-Viognier': 0, 'Primitivo': 0, 'Cabernet Blend': 2, 'Prosecco': 0, 'Chenin Blanc': 0, 'Pinot Gris': 6, 'Dolcetto': 0, 'Blaufränkisch': 0, 'Malbec-Merlot': 0, 'Verdejo': 1, 'Friulano': 0, 'Viura': 0, 'Gamay': 1, 'Cabernet Sauvignon': 14, 'Red Blend': 10, 'Albariño': 1, 'Bordeaux-style Red Blend': 3, 'St. Laurent': 0, 'Semillon-Sauvignon Blanc': 0, 'Godello': 0, 'Melon': 0, 'Merlot': 16, 'Pinot Blanc': 2, 'Sauvignon Blanc': 2, 'Petite Sirah': 4, 'Tinta de Toro': 0, 'Zweigelt': 0, 'Rhône-style Red Blend': 7, 'Prugnolo Gentile': 0, 'Negroamaro': 0, 'Grenache': 6, 'Cabernet Franc': 9, 'Roussanne': 0, 'Agiorgitiko': 0, 'Champagne Blend': 0, 'Montepulciano': 0, 'Meritage': 6, 'Rhône-style White Blend': 0, 'Cabernet Sauvignon-Syrah': 0, 'Moscato': 0, 'Pinotage': 0, 'Viognier': 3, 'Sherry': 0, 'Garganega': 0, 'Portuguese Red': 3, 'Bordeaux-style White Blend': 2, 'Barbera': 2, 'Sparkling Blend': 0, 'Petit Verdot': 1, 'Rosé': 0, 'Sémillon': 0, 'Mourvèdre': 3, 'Sauvignon': 0, 'Tempranillo Blend': 5, 'Riesling': 2, 'Malbec': 10, 'Fiano': 0, 'Portuguese White': 1, 'Fumé Blanc': 0, 'Tempranillo-Cabernet Sauvignon': 0, 'Tannat': 0, 'Glera': 0, 'Pinot Nero': 0, 'Falanghina': 1, 'Bonarda': 0, 'Muscat': 0, 'Tempranillo': 6, 'Aglianico': 0, 'Garnacha': 4, 'Merlot-Cabernet Sauvignon': 0, 'Carmenère': 4, 'Sangiovese Grosso': 3, 'White Blend': 1, 'Gewürztraminer': 3, \"Nero d'Avola\": 0, 'G-S-M': 1, 'Torrontés': 0, 'Sagrantino': 0, 'Zinfandel': 4, 'Port': 1, 'Shiraz-Cabernet Sauvignon': 0, 'Corvina, Rondinella, Molinara': 1, 'Cabernet Sauvignon-Merlot': 3}\n",
      "Counter({0: 51, 1: 14, 3: 8, 2: 7, 4: 6, 6: 4, 5: 2, 10: 2, 14: 2, 7: 1, 8: 1, 9: 1, 16: 1})\n"
     ]
    }
   ],
   "source": [
    "sim_mat200 = buildSimMat(all_cats_top_n_descriptors(top100wines, variety_counts.keys()[:100], n = 200))\n",
    "\n",
    "sim_mat100 = buildSimMat(all_cats_top_n_descriptors(top100wines, variety_counts.keys()[:100], n = 100))\n",
    "\n",
    "## 100 Features, 0.45\n",
    "\n",
    "related = {wine: len(mostSimCategories(wine, sim_mat100, threshold= 0.45)) for wine in wine_cats}\n",
    "print(related)\n",
    "print(Counter(related.values()))\n",
    "print()\n",
    "## 100 Features, 0.5\n",
    "\n",
    "related = {wine: len(mostSimCategories(wine, sim_mat100, threshold= 0.5)) for wine in wine_cats}\n",
    "print(related)\n",
    "print(Counter(related.values()))\n",
    "print()\n",
    "## 200 Features, 0.45\n",
    "\n",
    "related = {wine: len(mostSimCategories(wine, sim_mat200, threshold= 0.45)) for wine in wine_cats}\n",
    "print(related)\n",
    "print(Counter(related.values()))\n",
    "print()\n",
    "## 200 Features, 0.5\n",
    "\n",
    "related = {wine: len(mostSimCategories(wine, sim_mat200, threshold= 0.5)) for wine in wine_cats}\n",
    "print(related)\n",
    "print(Counter(related.values()))"
   ]
  },
  {
   "cell_type": "code",
   "execution_count": 44,
   "metadata": {},
   "outputs": [
    {
     "data": {
      "text/plain": [
       "[('Sauvignon', 0.45454545454545453),\n",
       " ('Pinot Bianco', 0.4344262295081967),\n",
       " ('Pinot Grigio', 0.4336917562724014),\n",
       " ('Friulano', 0.4308300395256917),\n",
       " ('Glera', 0.4234875444839858),\n",
       " ('Vermentino', 0.41843971631205673),\n",
       " ('Fiano', 0.4069767441860465),\n",
       " ('Prosecco', 0.39372822299651566),\n",
       " ('Grillo', 0.3784860557768924),\n",
       " ('White Blend', 0.3698630136986301)]"
      ]
     },
     "execution_count": 44,
     "metadata": {},
     "output_type": "execute_result"
    }
   ],
   "source": [
    " mostSimCategories10(\"Garganega\", sim_mat)"
   ]
  },
  {
   "cell_type": "code",
   "execution_count": 47,
   "metadata": {},
   "outputs": [
    {
     "data": {
      "image/png": "[encoded data removed]",
      "text/plain": [
       "<matplotlib.figure.Figure at 0x1150be748>"
      ]
     },
     "metadata": {},
     "output_type": "display_data"
    }
   ],
   "source": [
    "%matplotlib inline\n",
    "fig  = plt.figure(figsize=(10,10))\n",
    "plt.imshow(sim_mat, plt.cm.Greys, interpolation=None)\n",
    "plt.colorbar()\n",
    "plt.show()"
   ]
  },
  {
   "cell_type": "code",
   "execution_count": 48,
   "metadata": {},
   "outputs": [
    {
     "name": "stdout",
     "output_type": "stream",
     "text": [
      "[('Merlot', 0.7543859649122807), ('Syrah', 0.6666666666666666), ('Pinot Noir', 0.6528925619834711), ('Meritage', 0.639344262295082), ('Cabernet Blend', 0.6260162601626016), ('Cabernet Franc', 0.5936254980079682), ('Malbec', 0.5503875968992248), ('Red Blend', 0.5384615384615384), ('Petite Sirah', 0.5384615384615384), ('Cabernet Sauvignon-Merlot', 0.5267175572519084), ('Grenache', 0.5151515151515151), ('Zinfandel', 0.5151515151515151), ('Bordeaux-style Red Blend', 0.5094339622641509), ('Shiraz', 0.5037593984962406)]\n"
     ]
    }
   ],
   "source": [
    "print(mostSimCategories(\"Cabernet Sauvignon\",sim_mat))"
   ]
  },
  {
   "cell_type": "code",
   "execution_count": 49,
   "metadata": {},
   "outputs": [
    {
     "name": "stdout",
     "output_type": "stream",
     "text": [
      "[('Syrah', 0.6736401673640168), ('Cabernet Sauvignon', 0.6528925619834711), ('Merlot', 0.6528925619834711), ('Cabernet Franc', 0.606425702811245), ('Grenache', 0.5873015873015873), ('Meritage', 0.5151515151515151), ('Malbec', 0.5094339622641509), ('Rhône-style Red Blend', 0.5037593984962406)]\n"
     ]
    }
   ],
   "source": [
    "print(mostSimCategories(\"Pinot Noir\",sim_mat))"
   ]
  },
  {
   "cell_type": "code",
   "execution_count": 50,
   "metadata": {},
   "outputs": [
    {
     "name": "stdout",
     "output_type": "stream",
     "text": [
      "[('Pinot Grigio', 0.5151515151515151)]\n"
     ]
    }
   ],
   "source": [
    "print(mostSimCategories(\"White Blend\",sim_mat))"
   ]
  },
  {
   "cell_type": "code",
   "execution_count": 52,
   "metadata": {},
   "outputs": [
    {
     "name": "stdout",
     "output_type": "stream",
     "text": [
      "[('Tempranillo', 0.7021276595744681), ('Carmenère', 0.6597510373443983), ('Tempranillo Blend', 0.6528925619834711), ('Garnacha', 0.5748031496062992), ('Cabernet Sauvignon', 0.5503875968992248), ('Merlot', 0.5444015444015444), ('Syrah', 0.5325670498084292), ('Mencía', 0.5220883534136547), ('Red Blend', 0.5151515151515151), ('Pinot Noir', 0.5094339622641509)]\n"
     ]
    }
   ],
   "source": [
    "print(mostSimCategories(\"Malbec\",sim_mat))"
   ]
  },
  {
   "cell_type": "code",
   "execution_count": 53,
   "metadata": {},
   "outputs": [
    {
     "name": "stdout",
     "output_type": "stream",
     "text": [
      "Most Similar: ('Merlot', 34.60896690305062)\n",
      "Least Similar: ('Melon', 16.676782733890928)\n"
     ]
    }
   ],
   "source": [
    "wine_sums = np.sum(sim_mat, axis = 1)\n",
    "order = np.argsort(wine_sums)[::-1]\n",
    "sim_sums = [(wine_cats[i], wine_sums[i]) for i in order]\n",
    "print(\"Most Similar: {}\".format(sim_sums[0]))\n",
    "print(\"Least Similar: {}\".format(sim_sums[-1]))"
   ]
  },
  {
   "cell_type": "markdown",
   "metadata": {},
   "source": [
    "### Trying too see if we can determine red or white wine based on summaries."
   ]
  },
  {
   "cell_type": "code",
   "execution_count": 54,
   "metadata": {},
   "outputs": [
    {
     "name": "stdout",
     "output_type": "stream",
     "text": [
      "##################################################\n",
      "Both\n",
      "['Sauvignon Blanc', 'Syrah', 'Zinfandel', 'Barbera', 'Cabernet Franc', 'Sangiovese Grosso', 'Gewürztraminer', 'Chenin Blanc', 'Glera', 'Prosecco', \"Nero d'Avola\", 'Moscato', 'Rhône-style White Blend', 'Garganega', 'Garnacha', 'Aglianico', 'Verdejo', 'Cabernet Blend', 'Petit Verdot', 'Pinotage', 'Touriga Nacional', 'Muscat', 'Fiano', 'Marsanne', 'Viura', 'St. Laurent', 'Shiraz-Cabernet Sauvignon', 'Falanghina', 'Tempranillo-Cabernet Sauvignon', 'Semillon-Sauvignon Blanc', 'Merlot-Cabernet Sauvignon']\n",
      "##################################################\n",
      "Red\n",
      "['Pinot Noir', 'Merlot', 'Sangiovese', 'White Blend', 'Rosé', 'Portuguese Red', 'Sparkling Blend', 'Shiraz', 'Corvina, Rondinella, Molinara', 'Pinot Grigio', 'Port', 'Grüner Veltliner', 'Petite Sirah', 'Carmenère', 'Grenache', 'Gamay', 'Pinot Blanc', 'Torrontés', 'Montepulciano', 'Meritage', 'Primitivo', 'Cabernet Sauvignon-Merlot', 'Zweigelt', 'Roussanne', 'G-S-M', 'Monastrell', 'Tannat', 'Friulano', 'Agiorgitiko', 'Fumé Blanc', 'Malbec-Merlot', 'Godello', 'Sherry', 'Greco', 'Cabernet Sauvignon-Shiraz', 'Negroamaro']\n",
      "##################################################\n",
      "White\n",
      "['Chardonnay', 'Cabernet Sauvignon', 'Red Blend', 'Bordeaux-style Red Blend', 'Riesling', 'Malbec', 'Tempranillo', 'Nebbiolo', 'Rhône-style Red Blend', 'Pinot Gris', 'Viognier', 'Bordeaux-style White Blend', 'Champagne Blend', 'Portuguese White', 'Tempranillo Blend', 'Albariño', 'Dolcetto', 'Sauvignon', 'Vermentino', 'Blaufränkisch', 'Tinta de Toro', 'Sémillon', 'Mourvèdre', 'Bonarda', 'Cabernet Sauvignon-Syrah', 'Grillo', 'Mencía', 'Pinot Nero', 'Pinot Bianco', 'Sagrantino', 'Melon', 'Prugnolo Gentile', 'Shiraz-Viognier']\n",
      "##################################################\n",
      "None\n",
      "[]\n"
     ]
    }
   ],
   "source": [
    "from collections import Counter\n",
    "def label(desc):\n",
    "    red_in = \"red\" in desc\n",
    "    white_in = \"white\" in desc\n",
    "    if red_in and white_in:\n",
    "        return \"Both\"\n",
    "    if red_in:\n",
    "        return \"Red\"\n",
    "    if white_in:\n",
    "        return \"White\"\n",
    "    return \"None\"\n",
    " \n",
    "labels = [label(desc) for cat, desc in top100wine_200descriptors.items()]\n",
    "Counter(labels)\n",
    "\n",
    "# Hm... Boths are mostly red wines.\n",
    "print(\"#\"*50)\n",
    "print(\"Both\")\n",
    "print([wine_cats[i] for (i, label) in enumerate(labels) if label == \"Both\"])\n",
    "print(\"#\"*50)\n",
    "print(\"Red\")\n",
    "print([wine_cats[i] for (i, label) in enumerate(labels) if label == \"Red\"])\n",
    "print(\"#\"*50)\n",
    "print(\"White\")\n",
    "print([wine_cats[i] for (i, label) in enumerate(labels) if label == \"White\"])\n",
    "print(\"#\"*50)\n",
    "print(\"None\")\n",
    "print([wine_cats[i] for (i, label) in enumerate(labels) if label == \"None\"])"
   ]
  },
  {
   "cell_type": "markdown",
   "metadata": {},
   "source": [
    "### Sample filtered data\n",
    "Taking only...\n",
    "- top 100 categories of wines by count\n",
    "- wines from top 12 countries as represented by count\n"
   ]
  },
  {
   "cell_type": "code",
   "execution_count": 55,
   "metadata": {},
   "outputs": [],
   "source": [
    "wines = top100wines[top100wines[\"country\"].isin(country_counts[:12].keys())]"
   ]
  },
  {
   "cell_type": "code",
   "execution_count": 56,
   "metadata": {},
   "outputs": [
    {
     "data": {
      "text/plain": [
       "141759"
      ]
     },
     "execution_count": 56,
     "metadata": {},
     "output_type": "execute_result"
    }
   ],
   "source": [
    "len(wines)"
   ]
  },
  {
   "cell_type": "code",
   "execution_count": null,
   "metadata": {},
   "outputs": [],
   "source": [
    "wines.describe().T"
   ]
  },
  {
   "cell_type": "code",
   "execution_count": null,
   "metadata": {},
   "outputs": [],
   "source": [
    "# wines.to_csv(\"filtered_wines.csv\")"
   ]
  },
  {
   "cell_type": "markdown",
   "metadata": {},
   "source": [
    "### Assigning Clusters to Wines"
   ]
  },
  {
   "cell_type": "code",
   "execution_count": 71,
   "metadata": {},
   "outputs": [],
   "source": [
    "def assignClusters():\n",
    "    clusters = list(range(100))\n",
    "    related_dict = {wine: mostSimCategories(wine, sim_mat100, threshold = 0.45)\\\n",
    "                   for wine in wine_cats}\n",
    "    def mergeClusters(clusters, wineidx1, wineidx2):\n",
    "        if wineidx2 < wineidx1:\n",
    "            return\n",
    "        engulfing = clusters[wineidx1]\n",
    "        replacing = clusters[wineidx2]\n",
    "        if engulfing == replacing:\n",
    "            return\n",
    "        clusters[wineidx2] = engulfing\n",
    "        \n",
    "    for i in range(1, 100):\n",
    "        wine1 = wine_cats[i]\n",
    "        related = related_dict[wine1]\n",
    "        for rel, _ in related:\n",
    "            rel_idx = cat_to_idx[rel]\n",
    "            mergeClusters(clusters, i, rel_idx)\n",
    "            \n",
    "    return clusters\n",
    "    "
   ]
  },
  {
   "cell_type": "code",
   "execution_count": 95,
   "metadata": {},
   "outputs": [
    {
     "name": "stdout",
     "output_type": "stream",
     "text": [
      "Number of Identified Clusters 21\n"
     ]
    }
   ],
   "source": [
    "# Identifying Clusters\n",
    "raw_clusters = assignClusters()\n",
    "raw_cluster_counts = Counter(raw_clusters)\n",
    "\n",
    "print(\"Number of Identified Clusters\", len(raw_cluster_counts.values()))\n",
    "refined_cluster_mapping = {list(raw_cluster_counts.keys())[idx]: idx for idx in range(21)}\n"
   ]
  },
  {
   "cell_type": "code",
   "execution_count": 97,
   "metadata": {},
   "outputs": [
    {
     "name": "stdout",
     "output_type": "stream",
     "text": [
      "##################################################\n",
      "Cluster Number 0\n",
      "##################################################\n",
      "['Chardonnay']\n",
      "\n",
      "##################################################\n",
      "Cluster Number 1\n",
      "##################################################\n",
      "['Pinot Noir', 'Cabernet Sauvignon', 'Red Blend', 'Syrah', 'Merlot', 'Zinfandel', 'Sangiovese', 'Malbec', 'Tempranillo', 'Nebbiolo', 'Shiraz', 'Corvina, Rondinella, Molinara', 'Rhône-style Red Blend', 'Barbera', 'Cabernet Franc', 'Sangiovese Grosso', 'Petite Sirah', 'Carmenère', 'Tempranillo Blend', 'Grenache', \"Nero d'Avola\", 'Garnacha', 'Dolcetto', 'Montepulciano', 'Aglianico', 'Meritage', 'Cabernet Blend', 'Primitivo', 'Cabernet Sauvignon-Merlot', 'Tinta de Toro', 'Pinotage', 'Mourvèdre', 'Bonarda', 'G-S-M', 'Cabernet Sauvignon-Syrah', 'Monastrell', 'Mencía', 'Shiraz-Cabernet Sauvignon', 'Shiraz-Viognier', 'Tempranillo-Cabernet Sauvignon', 'Merlot-Cabernet Sauvignon', 'Negroamaro']\n",
      "\n",
      "##################################################\n",
      "Cluster Number 2\n",
      "##################################################\n",
      "['Bordeaux-style Red Blend', 'Portuguese Red', 'Port', 'Gamay', 'Blaufränkisch', 'Zweigelt', 'Touriga Nacional']\n",
      "\n",
      "##################################################\n",
      "Cluster Number 3\n",
      "##################################################\n",
      "['Sauvignon Blanc', 'Riesling', 'White Blend', 'Sparkling Blend', 'Pinot Gris', 'Pinot Grigio', 'Viognier', 'Champagne Blend', 'Grüner Veltliner', 'Gewürztraminer', 'Portuguese White', 'Chenin Blanc', 'Albariño', 'Pinot Blanc', 'Moscato', 'Rhône-style White Blend', 'Garganega', 'Torrontés', 'Verdejo', 'Sémillon', 'Roussanne', 'Muscat', 'Friulano', 'Pinot Bianco', 'Viura', 'Godello', 'Semillon-Sauvignon Blanc']\n",
      "\n",
      "##################################################\n",
      "Cluster Number 4\n",
      "##################################################\n",
      "['Cabernet Sauvignon-Shiraz']\n",
      "\n",
      "##################################################\n",
      "Cluster Number 5\n",
      "##################################################\n",
      "['Tannat']\n",
      "\n",
      "##################################################\n",
      "Cluster Number 6\n",
      "##################################################\n",
      "['Rosé']\n",
      "\n",
      "##################################################\n",
      "Cluster Number 7\n",
      "##################################################\n",
      "['Pinot Nero']\n",
      "\n",
      "##################################################\n",
      "Cluster Number 8\n",
      "##################################################\n",
      "['Marsanne']\n",
      "\n",
      "##################################################\n",
      "Cluster Number 9\n",
      "##################################################\n",
      "['Agiorgitiko']\n",
      "\n",
      "##################################################\n",
      "Cluster Number 10\n",
      "##################################################\n",
      "['Sagrantino']\n",
      "\n",
      "##################################################\n",
      "Cluster Number 11\n",
      "##################################################\n",
      "['Fumé Blanc']\n",
      "\n",
      "##################################################\n",
      "Cluster Number 12\n",
      "##################################################\n",
      "['Malbec-Merlot']\n",
      "\n",
      "##################################################\n",
      "Cluster Number 13\n",
      "##################################################\n",
      "['Melon']\n",
      "\n",
      "##################################################\n",
      "Cluster Number 14\n",
      "##################################################\n",
      "['Sherry']\n",
      "\n",
      "##################################################\n",
      "Cluster Number 15\n",
      "##################################################\n",
      "['Sauvignon', 'Vermentino', 'Grillo', 'Fiano', 'Greco', 'Falanghina']\n",
      "\n",
      "##################################################\n",
      "Cluster Number 16\n",
      "##################################################\n",
      "['St. Laurent']\n",
      "\n",
      "##################################################\n",
      "Cluster Number 17\n",
      "##################################################\n",
      "['Prugnolo Gentile']\n",
      "\n",
      "##################################################\n",
      "Cluster Number 18\n",
      "##################################################\n",
      "['Bordeaux-style White Blend']\n",
      "\n",
      "##################################################\n",
      "Cluster Number 19\n",
      "##################################################\n",
      "['Glera', 'Prosecco']\n",
      "\n",
      "##################################################\n",
      "Cluster Number 20\n",
      "##################################################\n",
      "['Petit Verdot']\n",
      "\n"
     ]
    }
   ],
   "source": [
    "clusters = [refined_cluster_mapping[raw] for raw in raw_clusters]\n",
    "#####################################################################\n",
    "\n",
    "cluster_dict = {c: [] for c in range(21)}\n",
    "for wineidx, c in enumerate(clusters):\n",
    "    cluster_dict[c].append(wine_cats[wineidx])\n",
    "for c in cluster_dict:\n",
    "    print(\"#\" * 50)\n",
    "    print(\"Cluster Number {}\".format(c))\n",
    "    print(\"#\" * 50)\n",
    "    print(cluster_dict[c])\n",
    "    print()"
   ]
  },
  {
   "cell_type": "markdown",
   "metadata": {},
   "source": [
    "### Exporting Wine Similarity data"
   ]
  },
  {
   "cell_type": "code",
   "execution_count": 102,
   "metadata": {},
   "outputs": [],
   "source": [
    "# Variety format {\"name\": variety, \"most_similar\": [{\"name\": , \"score\": }]}\n",
    "def json_varieties(sim_mat, features_dict, threshold):\n",
    "    varieties = []\n",
    "    for idx, variety in enumerate(wine_cats):\n",
    "        similar = mostSimCategories(variety, sim_mat, threshold = threshold)\n",
    "        top10similar = mostSimCategories10(variety, sim_mat)\n",
    "        varieties.append({\"name\": variety,\\\n",
    "                          \"related\": [{\"name\": sim_var, \"score\": score} for sim_var, score in similar],\n",
    "                          \"cluster\": clusters[idx],\n",
    "                          \"most_similar10\": [{\"name\": sim_var, \"score\": score} for sim_var, score in top10similar],\n",
    "                          \"features\" : features_dict[variety]\n",
    "                        })\n",
    "    return varieties"
   ]
  },
  {
   "cell_type": "code",
   "execution_count": 103,
   "metadata": {},
   "outputs": [],
   "source": [
    "## TO EXPORT\n",
    "\n",
    "with open(\"wine_variety_similarities.json\", \"w\") as f:\n",
    "    \n",
    "    features = all_cats_top_n_descriptors(top100wines, variety_counts.keys()[:100], n = 100)\n",
    "    \n",
    "    obj = {\"varieties\" : json_varieties(sim_mat100, features, 0.45),\n",
    "           \"variety_to_index\": cat_to_idx,\n",
    "           \"sim_matrix\": sim_mat.tolist()\n",
    "          }\n",
    "    json.dump(obj, f)"
   ]
  },
  {
   "cell_type": "code",
   "execution_count": null,
   "metadata": {},
   "outputs": [],
   "source": []
  },
  {
   "cell_type": "code",
   "execution_count": null,
   "metadata": {},
   "outputs": [],
   "source": []
  }
 ],
 "metadata": {
  "kernelspec": {
   "display_name": "Python 3",
   "language": "python",
   "name": "python3"
  },
  "language_info": {
   "codemirror_mode": {
    "name": "ipython",
    "version": 3
   },
   "file_extension": ".py",
   "mimetype": "text/x-python",
   "name": "python",
   "nbconvert_exporter": "python",
   "pygments_lexer": "ipython3",
   "version": "3.5.2"
  }
 },
 "nbformat": 4,
 "nbformat_minor": 2
}
